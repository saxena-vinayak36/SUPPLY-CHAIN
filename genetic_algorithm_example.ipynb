{
 "cells": [
  {
   "cell_type": "markdown",
   "metadata": {},
   "source": [
    "# Fungsi generate individu dan populasi"
   ]
  },
  {
   "cell_type": "code",
   "execution_count": 1,
   "metadata": {},
   "outputs": [],
   "source": [
    "from random import randint\n",
    "\n",
    "def individual(length, min, max):\n",
    "    return [randint(min, max) for x in range(length)]\n",
    "\n",
    "def population(count, length, min, max):\n",
    "    return [individual(length, min, max) for x in range(count)]"
   ]
  },
  {
   "cell_type": "code",
   "execution_count": 2,
   "metadata": {},
   "outputs": [
    {
     "data": {
      "text/plain": [
       "[68, 61, 7, 12, 67]"
      ]
     },
     "execution_count": 2,
     "metadata": {},
     "output_type": "execute_result"
    }
   ],
   "source": [
    "individual(5, 0,100)"
   ]
  },
  {
   "cell_type": "code",
   "execution_count": 3,
   "metadata": {},
   "outputs": [
    {
     "data": {
      "text/plain": [
       "[[68, 75, 11, 43, 82], [83, 1, 66, 73, 27], [7, 37, 71, 15, 87]]"
      ]
     },
     "execution_count": 3,
     "metadata": {},
     "output_type": "execute_result"
    }
   ],
   "source": [
    "population(3, 5, 0, 100)"
   ]
  },
  {
   "cell_type": "markdown",
   "metadata": {},
   "source": [
    "# Fungsi nilai fitness"
   ]
  },
  {
   "cell_type": "code",
   "execution_count": 4,
   "metadata": {},
   "outputs": [],
   "source": [
    "from operator import add\n",
    "from functools import reduce\n",
    "\n",
    "def fitness(individual, target):\n",
    "    sum = reduce(add, individual, 0)\n",
    "    return abs(target-sum)"
   ]
  },
  {
   "cell_type": "code",
   "execution_count": 5,
   "metadata": {},
   "outputs": [
    {
     "data": {
      "text/plain": [
       "[63, 56, 12, 24, 50]"
      ]
     },
     "execution_count": 5,
     "metadata": {},
     "output_type": "execute_result"
    }
   ],
   "source": [
    "ind = individual(5, 0, 100)\n",
    "ind"
   ]
  },
  {
   "cell_type": "code",
   "execution_count": 6,
   "metadata": {},
   "outputs": [
    {
     "data": {
      "text/plain": [
       "5"
      ]
     },
     "execution_count": 6,
     "metadata": {},
     "output_type": "execute_result"
    }
   ],
   "source": [
    "fitness(ind, 200)"
   ]
  },
  {
   "cell_type": "code",
   "execution_count": 7,
   "metadata": {},
   "outputs": [
    {
     "data": {
      "text/plain": [
       "61"
      ]
     },
     "execution_count": 7,
     "metadata": {},
     "output_type": "execute_result"
    }
   ],
   "source": [
    "#tes fitness function\n",
    "ind = individual(5, 0, 100)\n",
    "fitness(ind, 200)"
   ]
  },
  {
   "cell_type": "markdown",
   "metadata": {},
   "source": [
    "# Membuat fungsi grade (rata-rata fitness dari individu di dalam populasi)"
   ]
  },
  {
   "cell_type": "code",
   "execution_count": 8,
   "metadata": {},
   "outputs": [],
   "source": [
    "def grade(populasi, target):\n",
    "    summed = reduce(add, (fitness(x, target) for x in populasi), 0)\n",
    "    return summed/(len(populasi) * 1.0)"
   ]
  },
  {
   "cell_type": "code",
   "execution_count": 9,
   "metadata": {},
   "outputs": [
    {
     "data": {
      "text/plain": [
       "[[60, 24, 2, 1, 99], [23, 56, 81, 55, 81], [44, 10, 99, 45, 20]]"
      ]
     },
     "execution_count": 9,
     "metadata": {},
     "output_type": "execute_result"
    }
   ],
   "source": [
    "z = population(3, 5, 0, 100)\n",
    "z"
   ]
  },
  {
   "cell_type": "code",
   "execution_count": 10,
   "metadata": {},
   "outputs": [
    {
     "data": {
      "text/plain": [
       "42.666666666666664"
      ]
     },
     "execution_count": 10,
     "metadata": {},
     "output_type": "execute_result"
    }
   ],
   "source": [
    "grade(z, 200)"
   ]
  },
  {
   "cell_type": "markdown",
   "metadata": {},
   "source": [
    "# Fungsi mutasi"
   ]
  },
  {
   "cell_type": "code",
   "execution_count": 11,
   "metadata": {},
   "outputs": [],
   "source": [
    "from random import random\n",
    "def mutate(populasi):\n",
    "    chance_to_mutate = 0.6\n",
    "    print('populasi awal', populasi)\n",
    "    n=0\n",
    "    for i in populasi:\n",
    "        r = random()\n",
    "        print('random', r)\n",
    "        if chance_to_mutate >r:\n",
    "            print('pada individu', n, 'terjadi mutasi')\n",
    "            place_to_modify = randint(0, len(i)-1)\n",
    "            print('yaitu pada angka ke', place_to_modify)\n",
    "            i[place_to_modify] = randint(min(i), max(i))\n",
    "        populasi[n]=i\n",
    "        n=n+1\n",
    "        print(i)\n",
    "    return populasi"
   ]
  },
  {
   "cell_type": "code",
   "execution_count": 12,
   "metadata": {},
   "outputs": [
    {
     "data": {
      "text/plain": [
       "[[67, 21, 47, 16, 100], [10, 12, 86, 46, 64], [42, 71, 74, 79, 73]]"
      ]
     },
     "execution_count": 12,
     "metadata": {},
     "output_type": "execute_result"
    }
   ],
   "source": [
    "populasi = population(3,5,0,100)\n",
    "populasi"
   ]
  },
  {
   "cell_type": "code",
   "execution_count": 13,
   "metadata": {},
   "outputs": [
    {
     "name": "stdout",
     "output_type": "stream",
     "text": [
      "populasi awal [[67, 21, 47, 16, 100], [10, 12, 86, 46, 64], [42, 71, 74, 79, 73]]\n",
      "random 0.33851066284509135\n",
      "pada individu 0 terjadi mutasi\n",
      "yaitu pada angka ke 4\n",
      "[67, 21, 47, 16, 93]\n",
      "random 0.8213214009019103\n",
      "[10, 12, 86, 46, 64]\n",
      "random 0.3629824352501436\n",
      "pada individu 2 terjadi mutasi\n",
      "yaitu pada angka ke 4\n",
      "[42, 71, 74, 79, 73]\n"
     ]
    },
    {
     "data": {
      "text/plain": [
       "[[67, 21, 47, 16, 93], [10, 12, 86, 46, 64], [42, 71, 74, 79, 73]]"
      ]
     },
     "execution_count": 13,
     "metadata": {},
     "output_type": "execute_result"
    }
   ],
   "source": [
    "mutate(populasi)"
   ]
  },
  {
   "cell_type": "markdown",
   "metadata": {},
   "source": [
    "# Fungsi mencari parents"
   ]
  },
  {
   "cell_type": "code",
   "execution_count": 14,
   "metadata": {},
   "outputs": [
    {
     "data": {
      "text/plain": [
       "[[41, 24, 29, 60, 45],\n",
       " [50, 43, 61, 34, 85],\n",
       " [31, 38, 21, 92, 34],\n",
       " [28, 53, 91, 65, 97],\n",
       " [74, 14, 71, 45, 43],\n",
       " [54, 37, 18, 49, 61],\n",
       " [6, 71, 18, 13, 84]]"
      ]
     },
     "execution_count": 14,
     "metadata": {},
     "output_type": "execute_result"
    }
   ],
   "source": [
    "populasi = population(7, 5, 0, 100)\n",
    "populasi"
   ]
  },
  {
   "cell_type": "code",
   "execution_count": 15,
   "metadata": {},
   "outputs": [
    {
     "data": {
      "text/plain": [
       "[(1, [41, 24, 29, 60, 45]),\n",
       " (73, [50, 43, 61, 34, 85]),\n",
       " (16, [31, 38, 21, 92, 34]),\n",
       " (134, [28, 53, 91, 65, 97]),\n",
       " (47, [74, 14, 71, 45, 43]),\n",
       " (19, [54, 37, 18, 49, 61]),\n",
       " (8, [6, 71, 18, 13, 84])]"
      ]
     },
     "execution_count": 15,
     "metadata": {},
     "output_type": "execute_result"
    }
   ],
   "source": [
    "target = 200\n",
    "gradee = [(fitness(x, target), x) for x in populasi]\n",
    "gradee"
   ]
  },
  {
   "cell_type": "code",
   "execution_count": 16,
   "metadata": {},
   "outputs": [
    {
     "data": {
      "text/plain": [
       "[[41, 24, 29, 60, 45],\n",
       " [6, 71, 18, 13, 84],\n",
       " [31, 38, 21, 92, 34],\n",
       " [54, 37, 18, 49, 61],\n",
       " [74, 14, 71, 45, 43],\n",
       " [50, 43, 61, 34, 85],\n",
       " [28, 53, 91, 65, 97]]"
      ]
     },
     "execution_count": 16,
     "metadata": {},
     "output_type": "execute_result"
    }
   ],
   "source": [
    "graded = [x[1] for x in sorted(gradee)]\n",
    "graded"
   ]
  },
  {
   "cell_type": "code",
   "execution_count": 17,
   "metadata": {},
   "outputs": [
    {
     "data": {
      "text/plain": [
       "2"
      ]
     },
     "execution_count": 17,
     "metadata": {},
     "output_type": "execute_result"
    }
   ],
   "source": [
    "retain = 0.3\n",
    "retain_length = int(len(graded)*retain)\n",
    "retain_length"
   ]
  },
  {
   "cell_type": "code",
   "execution_count": 18,
   "metadata": {},
   "outputs": [
    {
     "data": {
      "text/plain": [
       "[[41, 24, 29, 60, 45], [6, 71, 18, 13, 84]]"
      ]
     },
     "execution_count": 18,
     "metadata": {},
     "output_type": "execute_result"
    }
   ],
   "source": [
    "parents = graded[:retain_length]\n",
    "parents"
   ]
  },
  {
   "cell_type": "code",
   "execution_count": 19,
   "metadata": {},
   "outputs": [
    {
     "name": "stdout",
     "output_type": "stream",
     "text": [
      "parents yang sudah ditambahkan genetic diversity  [[41, 24, 29, 60, 45], [6, 71, 18, 13, 84], [54, 37, 18, 49, 61], [74, 14, 71, 45, 43]]\n"
     ]
    }
   ],
   "source": [
    "random_select = 0.3\n",
    "for individu in graded[retain_length:]:\n",
    "    if random_select > random():\n",
    "        parents.append(individu)\n",
    "print('parents yang sudah ditambahkan genetic diversity ', parents)"
   ]
  },
  {
   "cell_type": "code",
   "execution_count": 20,
   "metadata": {},
   "outputs": [
    {
     "name": "stdout",
     "output_type": "stream",
     "text": [
      "parents lanjutkan hasil mutasi  [[55, 24, 29, 60, 45], [6, 71, 18, 13, 84], [54, 37, 18, 49, 61], [74, 14, 71, 45, 43]]\n"
     ]
    }
   ],
   "source": [
    "mutate = 0.4\n",
    "for individu in parents:\n",
    "    r = random()\n",
    "    if mutate > r:\n",
    "        pos_to_mutate = randint(0, len(individu)-1)\n",
    "        individu[pos_to_mutate] = randint(min(individu), max(individu))\n",
    "print('parents lanjutkan hasil mutasi ', parents)"
   ]
  },
  {
   "cell_type": "code",
   "execution_count": 21,
   "metadata": {},
   "outputs": [
    {
     "name": "stdout",
     "output_type": "stream",
     "text": [
      "parent yang ditambahkan child crossover  [[55, 24, 29, 60, 45], [6, 71, 18, 13, 84], [54, 37, 18, 49, 61], [74, 14, 71, 45, 43], [54, 37, 71, 45, 43], [55, 24, 71, 45, 43], [6, 71, 71, 45, 43]]\n"
     ]
    }
   ],
   "source": [
    "parents_length = len(parents)\n",
    "desired_length = len(populasi) - parents_length\n",
    "\n",
    "children = []\n",
    "while len(children) < desired_length:\n",
    "    malenumber = randint(0, parents_length-1)\n",
    "    femalenumber = randint(0, parents_length-1)\n",
    "    if malenumber != femalenumber:\n",
    "        male = parents[malenumber]\n",
    "        female = parents[femalenumber]\n",
    "        half = round(len(male)/2)\n",
    "        child = male[:half] + female[half:]\n",
    "        children.append(child)\n",
    "parents.extend(children)\n",
    "print('parent yang ditambahkan child crossover ', parents)"
   ]
  },
  {
   "cell_type": "code",
   "execution_count": null,
   "metadata": {},
   "outputs": [],
   "source": []
  }
 ],
 "metadata": {
  "kernelspec": {
   "display_name": "Python 3",
   "language": "python",
   "name": "python3"
  },
  "language_info": {
   "codemirror_mode": {
    "name": "ipython",
    "version": 3
   },
   "file_extension": ".py",
   "mimetype": "text/x-python",
   "name": "python",
   "nbconvert_exporter": "python",
   "pygments_lexer": "ipython3",
   "version": "3.8.5"
  }
 },
 "nbformat": 4,
 "nbformat_minor": 4
}
