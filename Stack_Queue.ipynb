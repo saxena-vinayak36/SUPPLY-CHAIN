{
 "cells": [
  {
   "cell_type": "markdown",
   "id": "hispanic-mount",
   "metadata": {},
   "source": [
    "# Stack"
   ]
  },
  {
   "cell_type": "code",
   "execution_count": 1,
   "id": "sealed-brooklyn",
   "metadata": {},
   "outputs": [],
   "source": [
    "# LIFO, Pop, Push, Top, Len, isempty()"
   ]
  },
  {
   "cell_type": "code",
   "execution_count": 8,
   "id": "normal-bradford",
   "metadata": {},
   "outputs": [],
   "source": [
    "class Stack:\n",
    "    \n",
    "    def __init__(self):\n",
    "        self._data = []\n",
    "    \n",
    "    def __len__(self):\n",
    "        return len(self._data)\n",
    "    \n",
    "    def isempty(self):\n",
    "        return len(self) == 0\n",
    "    \n",
    "    def push(self, e):\n",
    "        self._data.append(e)\n",
    "    \n",
    "    def pop(self):\n",
    "        if self.isempty():\n",
    "            print(\"Stack is empty\")\n",
    "            return\n",
    "        return self._data.pop()\n",
    "    \n",
    "    def top(self):\n",
    "        if self.isempty():\n",
    "            print(\"Stack is empty\")\n",
    "            return\n",
    "        return self._data[-1]"
   ]
  },
  {
   "cell_type": "code",
   "execution_count": 10,
   "id": "established-right",
   "metadata": {},
   "outputs": [
    {
     "name": "stdout",
     "output_type": "stream",
     "text": [
      "[69, 20, 31]\n",
      "31\n",
      "[69, 20]\n",
      "20\n"
     ]
    }
   ],
   "source": [
    "S = Stack()\n",
    "S.push(69)\n",
    "S.push(20)\n",
    "S.push(31)\n",
    "print(S._data)\n",
    "print(S.pop())\n",
    "print(S._data)\n",
    "print(S.top())"
   ]
  },
  {
   "cell_type": "code",
   "execution_count": null,
   "id": "taken-locator",
   "metadata": {},
   "outputs": [],
   "source": []
  },
  {
   "cell_type": "markdown",
   "id": "transparent-henry",
   "metadata": {},
   "source": [
    "# Queue"
   ]
  },
  {
   "cell_type": "code",
   "execution_count": 12,
   "id": "diagnostic-fireplace",
   "metadata": {},
   "outputs": [],
   "source": [
    "# FIFO, enqueue(), dequeue(), front, rear, first(), len(), isempty()"
   ]
  },
  {
   "cell_type": "code",
   "execution_count": 14,
   "id": "generic-format",
   "metadata": {},
   "outputs": [],
   "source": [
    "class QueueArray:\n",
    "    \n",
    "    def __init__(self):\n",
    "        self._data = []\n",
    "        \n",
    "    def __len__(self):\n",
    "        return len(self._data)\n",
    "    \n",
    "    def isempty(self):\n",
    "        return len(self) == 0\n",
    "    \n",
    "    def enqueue(self, e):\n",
    "        self._data.append(e)\n",
    "        \n",
    "    def dequeue(self):\n",
    "        if self.isempty():\n",
    "            print(\"Queue is empty\")\n",
    "            return\n",
    "        return self._data.pop(0)\n",
    "    \n",
    "    def first(self):\n",
    "        return self._data[0]"
   ]
  },
  {
   "cell_type": "code",
   "execution_count": 19,
   "id": "hollow-petite",
   "metadata": {},
   "outputs": [
    {
     "name": "stdout",
     "output_type": "stream",
     "text": [
      "[24, 69, 68]\n",
      "24\n",
      "24\n",
      "[69, 68]\n",
      "[69, 68, 33]\n"
     ]
    }
   ],
   "source": [
    "Q = QueueArray()\n",
    "Q.enqueue(24)\n",
    "Q.enqueue(69)\n",
    "Q.enqueue(68)\n",
    "print(Q._data)\n",
    "print(Q.first())\n",
    "print(Q.dequeue())\n",
    "print(Q._data)\n",
    "Q.enqueue(33)\n",
    "print(Q._data)"
   ]
  },
  {
   "cell_type": "code",
   "execution_count": null,
   "id": "clean-piece",
   "metadata": {},
   "outputs": [],
   "source": []
  },
  {
   "cell_type": "markdown",
   "id": "continued-component",
   "metadata": {},
   "source": [
    "# DEQueue"
   ]
  },
  {
   "cell_type": "code",
   "execution_count": 20,
   "id": "equivalent-dividend",
   "metadata": {},
   "outputs": [],
   "source": [
    "# addfirst(), addlast(), removefirst(), removelast(), len(), first(), last(), front, rear, isempty()"
   ]
  },
  {
   "cell_type": "code",
   "execution_count": null,
   "id": "monthly-joint",
   "metadata": {},
   "outputs": [],
   "source": []
  }
 ],
 "metadata": {
  "kernelspec": {
   "display_name": "Python 3",
   "language": "python",
   "name": "python3"
  },
  "language_info": {
   "codemirror_mode": {
    "name": "ipython",
    "version": 3
   },
   "file_extension": ".py",
   "mimetype": "text/x-python",
   "name": "python",
   "nbconvert_exporter": "python",
   "pygments_lexer": "ipython3",
   "version": "3.7.4"
  }
 },
 "nbformat": 4,
 "nbformat_minor": 5
}
